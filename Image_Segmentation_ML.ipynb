{
  "nbformat": 4,
  "nbformat_minor": 0,
  "metadata": {
    "colab": {
      "provenance": [],
      "authorship_tag": "ABX9TyN+od+4AK9uR83kM3yOZzek",
      "include_colab_link": true
    },
    "kernelspec": {
      "name": "python3",
      "display_name": "Python 3"
    },
    "language_info": {
      "name": "python"
    }
  },
  "cells": [
    {
      "cell_type": "markdown",
      "metadata": {
        "id": "view-in-github",
        "colab_type": "text"
      },
      "source": [
        "<a href=\"https://colab.research.google.com/github/thenameisAnurag/CV-DL/blob/main/Image_Segmentation_ML.ipynb\" target=\"_parent\"><img src=\"https://colab.research.google.com/assets/colab-badge.svg\" alt=\"Open In Colab\"/></a>"
      ]
    },
    {
      "cell_type": "code",
      "execution_count": null,
      "metadata": {
        "id": "CNxXGBPp6USW"
      },
      "outputs": [],
      "source": [
        "import numpy as np\n",
        "import cv2\n",
        "import pandas as pd\n",
        "\n",
        "img = cv2.imread('/content/image15.png')"
      ]
    },
    {
      "cell_type": "code",
      "source": [
        "img = cv2.cvtColor(img, cv2.COLOR_BGR2GRAY)"
      ],
      "metadata": {
        "id": "pZ_FToBb68Q0"
      },
      "execution_count": null,
      "outputs": []
    },
    {
      "cell_type": "code",
      "source": [
        "img2 = img.reshape(-1)\n",
        "df = pd.DataFrame()\n",
        "df['Original Image'] = img2"
      ],
      "metadata": {
        "id": "kF6e0ao96_my"
      },
      "execution_count": null,
      "outputs": []
    },
    {
      "cell_type": "code",
      "source": [
        "#CANNY EDGE\n",
        "edges = cv2.Canny(img, 100,200)   #Image, min and max values\n",
        "edges1 = edges.reshape(-1)\n",
        "df['Canny Edge'] = edges1 #Add column to original dataframe\n",
        "\n",
        "from skimage.filters import roberts, sobel, scharr, prewitt\n",
        "\n",
        "#ROBERTS EDGE\n",
        "edge_roberts = roberts(img)\n",
        "edge_roberts1 = edge_roberts.reshape(-1)\n",
        "df['Roberts'] = edge_roberts1\n",
        "\n",
        "#SOBEL\n",
        "edge_sobel = sobel(img)\n",
        "edge_sobel1 = edge_sobel.reshape(-1)\n",
        "df['Sobel'] = edge_sobel1\n"
      ],
      "metadata": {
        "id": "uc7VQErb7Dry"
      },
      "execution_count": null,
      "outputs": []
    },
    {
      "cell_type": "code",
      "source": [
        "edge_prewitt = prewitt(img)\n",
        "edge_prewitt1 = edge_prewitt.reshape(-1)\n",
        "df['Prewitt'] = edge_prewitt1\n",
        "\n",
        "#GAUSSIAN with sigma=3\n",
        "from scipy import ndimage as nd\n",
        "gaussian_img = nd.gaussian_filter(img, sigma=3)\n",
        "gaussian_img1 = gaussian_img.reshape(-1)\n",
        "df['Gaussian s3'] = gaussian_img1\n",
        "\n",
        "#GAUSSIAN with sigma=7\n",
        "gaussian_img2 = nd.gaussian_filter(img, sigma=7)\n",
        "gaussian_img3 = gaussian_img2.reshape(-1)\n",
        "df['Gaussian s7'] = gaussian_img3\n",
        "\n",
        "#MEDIAN with sigma=3\n",
        "median_img = nd.median_filter(img, size=3)\n",
        "median_img1 = median_img.reshape(-1)\n",
        "df['Median s3'] = median_img1"
      ],
      "metadata": {
        "id": "e53aq33A7Hbi"
      },
      "execution_count": null,
      "outputs": []
    },
    {
      "cell_type": "code",
      "source": [
        "labeled_img = cv2.imread('/content/image15 (1).png')"
      ],
      "metadata": {
        "id": "Qim3chIC7N5Z"
      },
      "execution_count": null,
      "outputs": []
    },
    {
      "cell_type": "code",
      "source": [
        "labeled_img = cv2.cvtColor(labeled_img, cv2.COLOR_BGR2GRAY)\n",
        "labeled_img1 = labeled_img.reshape(-1)\n",
        "df['Labels'] = labeled_img1\n",
        "\n",
        "print(df.head())"
      ],
      "metadata": {
        "colab": {
          "base_uri": "https://localhost:8080/"
        },
        "id": "juhftlPv7R3h",
        "outputId": "3d1766d9-0954-41cc-8d84-22b160700f3c"
      },
      "execution_count": null,
      "outputs": [
        {
          "output_type": "stream",
          "name": "stdout",
          "text": [
            "   Original Image  Canny Edge  Roberts  Sobel       Prewitt  Gaussian s3  \\\n",
            "0             255           0      0.0    0.0  7.850462e-17          254   \n",
            "1             255           0      0.0    0.0  7.850462e-17          254   \n",
            "2             255           0      0.0    0.0  7.850462e-17          254   \n",
            "3             255           0      0.0    0.0  7.850462e-17          253   \n",
            "4             255           0      0.0    0.0  7.850462e-17          251   \n",
            "\n",
            "   Gaussian s7  Median s3  Labels  \n",
            "0          234        255     255  \n",
            "1          233        255     255  \n",
            "2          232        255     255  \n",
            "3          230        255     255  \n",
            "4          227        255     255  \n"
          ]
        }
      ]
    },
    {
      "cell_type": "code",
      "source": [
        "#Define the dependent variable that needs to be predicted (labels)\n",
        "Y = df[\"Labels\"].values\n",
        "\n",
        "#Define the independent variables\n",
        "X = df.drop(labels = [\"Labels\"], axis=1)\n",
        "\n",
        "#Split data into train and test to verify accuracy after fitting the model.\n",
        "from sklearn.model_selection import train_test_split\n",
        "X_train, X_test, y_train, y_test = train_test_split(X, Y, test_size=0.4, random_state=20)\n"
      ],
      "metadata": {
        "id": "VxzEwpXs7Vp5"
      },
      "execution_count": null,
      "outputs": []
    },
    {
      "cell_type": "code",
      "source": [
        "from sklearn.ensemble import RandomForestClassifier\n",
        "# Instantiate model with n number of decision trees\n",
        "model = RandomForestClassifier(n_estimators = 100, random_state = 42)"
      ],
      "metadata": {
        "id": "ZZt2Gl5R7X8J"
      },
      "execution_count": null,
      "outputs": []
    },
    {
      "cell_type": "code",
      "source": [
        "model.fit(X_train, y_train)\n",
        "prediction_test_train = model.predict(X_train)\n",
        "\n",
        "#Test prediction on testing data.\n",
        "prediction_test = model.predict(X_test)\n",
        "\n",
        "\n",
        "from sklearn import metrics\n",
        "print (\"Accuracy = \", metrics.accuracy_score(y_test, prediction_test))\n",
        "\n",
        "feature_list = list(X.columns)\n",
        "feature_imp = pd.Series(model.feature_importances_,index=feature_list).sort_values(ascending=False)\n",
        "print(feature_imp)"
      ],
      "metadata": {
        "colab": {
          "base_uri": "https://localhost:8080/"
        },
        "id": "zYqQTQoU7Z5K",
        "outputId": "26a093f3-438c-4dbc-9556-a224c1c2c6a8"
      },
      "execution_count": null,
      "outputs": [
        {
          "output_type": "stream",
          "name": "stdout",
          "text": [
            "Accuracy =  0.9459834520318391\n",
            "Original Image    0.390378\n",
            "Median s3         0.230169\n",
            "Gaussian s3       0.133453\n",
            "Gaussian s7       0.081669\n",
            "Roberts           0.056461\n",
            "Prewitt           0.052738\n",
            "Sobel             0.051739\n",
            "Canny Edge        0.003394\n",
            "dtype: float64\n"
          ]
        }
      ]
    },
    {
      "cell_type": "code",
      "source": [],
      "metadata": {
        "id": "omBi3vGm_SkD"
      },
      "execution_count": null,
      "outputs": []
    }
  ]
}